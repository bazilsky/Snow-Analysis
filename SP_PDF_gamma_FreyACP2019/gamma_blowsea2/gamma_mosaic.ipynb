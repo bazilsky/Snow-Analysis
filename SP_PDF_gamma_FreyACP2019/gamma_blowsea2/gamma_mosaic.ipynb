{
 "cells": [
  {
   "cell_type": "code",
   "execution_count": 1,
   "metadata": {},
   "outputs": [
    {
     "name": "stdout",
     "output_type": "stream",
     "text": [
      "A (1, 1)\n",
      "F (277920, 64)\n",
      "MU (277920, 1)\n",
      "N (277920, 64)\n",
      "Ntot (277920, 1)\n",
      "Q (277920, 1)\n",
      "Qi (277920, 1)\n",
      "RH10m (352800, 1)\n",
      "RH2m (352800, 1)\n",
      "RH6m (352800, 1)\n",
      "SP_data (277920, 64)\n",
      "T (277920, 1)\n",
      "T10m (352800, 1)\n",
      "T10m_ex (277920, 1)\n",
      "T29m_PS (357660, 2)\n",
      "T2m (352800, 1)\n",
      "T6m (352800, 1)\n",
      "U10m (352800, 1)\n",
      "U10m_ex (277920, 1)\n",
      "U2m (352800, 1)\n",
      "U39m_PS (357660, 2)\n",
      "U6m (352800, 1)\n",
      "U8cm_ex (277920, 1)\n",
      "dp_bins (64, 4)\n",
      "filename (1,)\n",
      "fname (193,)\n",
      "jday (277920, 1)\n",
      "lat (352800, 1)\n",
      "lon (352800, 1)\n",
      "meanD (64, 1)\n",
      "mu (277920, 64)\n",
      "p (352800, 1)\n",
      "q (277920, 64)\n",
      "rho_ice (1, 1)\n",
      "snow_depth (352800, 1)\n",
      "t (277920, 1)\n",
      "t_NOAA (352800, 1)\n",
      "__function_workspace__ (1, 2224360)\n"
     ]
    }
   ],
   "source": [
    "import numpy as np \n",
    "import pandas as pd\n",
    "import pylab as plt\n",
    "import scipy.io as sio\n",
    "\n",
    "# Read in .mat file \n",
    "path = '/Users/ananth/Desktop/bas_scripts/DATA_SETS/mosaic/newdata_with_metcity/'\n",
    "\n",
    "# Read in .mat file\n",
    "data = sio.loadmat(path + 'U1104_8cm_1min.mat')\n",
    "\n",
    "# display the variables and their type in data\n",
    "for key in data.keys():\n",
    "    if type(data[key]) == np.ndarray:\n",
    "        print(key, data[key].shape)\n",
    "\n",
    "# Extract the variables\n",
    "#time = data['time']"
   ]
  },
  {
   "cell_type": "code",
   "execution_count": 10,
   "metadata": {},
   "outputs": [
    {
     "data": {
      "text/plain": [
       "(277920, 1)"
      ]
     },
     "execution_count": 10,
     "metadata": {},
     "output_type": "execute_result"
    }
   ],
   "source": [
    "data['U10m_ex'].shape"
   ]
  },
  {
   "cell_type": "code",
   "execution_count": 2,
   "metadata": {},
   "outputs": [
    {
     "name": "stderr",
     "output_type": "stream",
     "text": [
      "/Users/ananth/miniconda3/envs/tensorflow_env/lib/python3.7/site-packages/ipykernel_launcher.py:19: RuntimeWarning: invalid value encountered in double_scalars\n"
     ]
    }
   ],
   "source": [
    "velocity_bins = np.arange(1,9.5,0.1);\n",
    "new_v_vector = []\n",
    "for p in range(len(velocity_bins)-1):\n",
    "    vbin_mean = (velocity_bins[p]+velocity_bins[p+1])/2\n",
    "    new_v_vector.append(vbin_mean)\n",
    "\n",
    "\n",
    "#calculate mean diameter \n",
    "N_a = data['N']\n",
    "dp_a = data['dp_bins'][:,3]\n",
    "dp_mean = np.zeros((N_a.shape[0],1))\n",
    "sum_a = 0\n",
    "sum_b = 0\n",
    "for i in range(len(N_a)):\n",
    "    for j in range(len(dp_a)):\n",
    "        sum_a = sum_a+N_a[i,j]*dp_a[j]\n",
    "        sum_b = sum_b+N_a[i,j]\n",
    "    \n",
    "    dp_mean[i] = sum_a/sum_b\n",
    "    sum_a = 0\n",
    "    sum_b = 0\n",
    "\n"
   ]
  },
  {
   "cell_type": "code",
   "execution_count": 3,
   "metadata": {},
   "outputs": [
    {
     "name": "stderr",
     "output_type": "stream",
     "text": [
      "/Users/ananth/miniconda3/envs/tensorflow_env/lib/python3.7/site-packages/ipykernel_launcher.py:4: RuntimeWarning: invalid value encountered in true_divide\n",
      "  after removing the cwd from sys.path.\n"
     ]
    }
   ],
   "source": [
    "# product using python\n",
    "sum_a1 = np.sum(N_a*dp_a, axis=1)\n",
    "sum_b1 = np.sum(N_a, axis=1)\n",
    "dp_mean1 = sum_a1/sum_b1\n"
   ]
  },
  {
   "cell_type": "code",
   "execution_count": 8,
   "metadata": {},
   "outputs": [
    {
     "data": {
      "text/plain": [
       "(277920, 1)"
      ]
     },
     "execution_count": 8,
     "metadata": {},
     "output_type": "execute_result"
    }
   ],
   "source": [
    "dp_mean.sha"
   ]
  },
  {
   "cell_type": "code",
   "execution_count": 9,
   "metadata": {},
   "outputs": [
    {
     "data": {
      "text/plain": [
       "(277920,)"
      ]
     },
     "execution_count": 9,
     "metadata": {},
     "output_type": "execute_result"
    }
   ],
   "source": [
    "dp_mean1.shape"
   ]
  },
  {
   "cell_type": "code",
   "execution_count": 4,
   "metadata": {},
   "outputs": [
    {
     "ename": "",
     "evalue": "",
     "output_type": "error",
     "traceback": [
      "\u001b[1;31mThe Kernel crashed while executing code in the the current cell or a previous cell. Please review the code in the cell(s) to identify a possible cause of the failure. Click <a href='https://aka.ms/vscodeJupyterKernelCrash'>here</a> for more info. View Jupyter <a href='command:jupyter.viewOutput'>log</a> for further details."
     ]
    },
    {
     "ename": "",
     "evalue": "",
     "output_type": "error",
     "traceback": [
      "\u001b[1;31mCanceled future for execute_request message before replies were done"
     ]
    }
   ],
   "source": [
    "dp_mean-dp_mean1"
   ]
  },
  {
   "cell_type": "code",
   "execution_count": null,
   "metadata": {},
   "outputs": [],
   "source": []
  }
 ],
 "metadata": {
  "kernelspec": {
   "display_name": "Python 3",
   "language": "python",
   "name": "python3"
  },
  "language_info": {
   "codemirror_mode": {
    "name": "ipython",
    "version": 3
   },
   "file_extension": ".py",
   "mimetype": "text/x-python",
   "name": "python",
   "nbconvert_exporter": "python",
   "pygments_lexer": "ipython3",
   "version": "3.7.13"
  },
  "orig_nbformat": 4,
  "vscode": {
   "interpreter": {
    "hash": "1814aae0b4acfa63c8a4519a08bcce723df50e43c46981dca896cf61bc7a7848"
   }
  }
 },
 "nbformat": 4,
 "nbformat_minor": 2
}
