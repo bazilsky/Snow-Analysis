{
 "cells": [
  {
   "cell_type": "code",
   "execution_count": 1,
   "metadata": {},
   "outputs": [
    {
     "name": "stdout",
     "output_type": "stream",
     "text": [
      "A (1, 1)\n",
      "F (277920, 64)\n",
      "MU (277920, 1)\n",
      "N (277920, 64)\n",
      "Ntot (277920, 1)\n",
      "Q (277920, 1)\n",
      "Qi (277920, 1)\n",
      "RH10m (352800, 1)\n",
      "RH2m (352800, 1)\n",
      "RH6m (352800, 1)\n",
      "SP_data (277920, 64)\n",
      "T (277920, 1)\n",
      "T10m (352800, 1)\n",
      "T10m_ex (277920, 1)\n",
      "T29m_PS (357660, 2)\n",
      "T2m (352800, 1)\n",
      "T6m (352800, 1)\n",
      "U10m (352800, 1)\n",
      "U10m_ex (277920, 1)\n",
      "U2m (352800, 1)\n",
      "U39m_PS (357660, 2)\n",
      "U6m (352800, 1)\n",
      "U8cm_ex (277920, 1)\n",
      "dp_bins (64, 4)\n",
      "filename (1,)\n",
      "fname (193,)\n",
      "jday (277920, 1)\n",
      "lat (352800, 1)\n",
      "lon (352800, 1)\n",
      "meanD (64, 1)\n",
      "mu (277920, 64)\n",
      "p (352800, 1)\n",
      "q (277920, 64)\n",
      "rho_ice (1, 1)\n",
      "snow_depth (352800, 1)\n",
      "t (277920, 1)\n",
      "t_NOAA (352800, 1)\n",
      "__function_workspace__ (1, 2224360)\n"
     ]
    }
   ],
   "source": [
    "import numpy as np \n",
    "import pandas as pd\n",
    "import pylab as plt\n",
    "import scipy.io as sio\n",
    "\n",
    "# Read in .mat file \n",
    "path = '/Users/ananth/Desktop/bas_scripts/DATA_SETS/mosaic/newdata_with_metcity/'\n",
    "\n",
    "# Read in .mat file\n",
    "data = sio.loadmat(path + 'U1104_8cm_1min.mat')\n",
    "\n",
    "# display the variables and their type in data\n",
    "for key in data.keys():\n",
    "    if type(data[key]) == np.ndarray:\n",
    "        print(key, data[key].shape)\n",
    "\n",
    "# Extract the variables\n",
    "#time = data['time']"
   ]
  },
  {
   "cell_type": "code",
   "execution_count": 10,
   "metadata": {},
   "outputs": [
    {
     "data": {
      "text/plain": [
       "(277920, 1)"
      ]
     },
     "execution_count": 10,
     "metadata": {},
     "output_type": "execute_result"
    }
   ],
   "source": [
    "data['U10m_ex'].shape"
   ]
  },
  {
   "cell_type": "code",
   "execution_count": 2,
   "metadata": {},
   "outputs": [
    {
     "name": "stderr",
     "output_type": "stream",
     "text": [
      "/Users/ananth/miniconda3/envs/tensorflow_env/lib/python3.7/site-packages/ipykernel_launcher.py:7: RuntimeWarning: invalid value encountered in true_divide\n",
      "  import sys\n"
     ]
    }
   ],
   "source": [
    "# product using python\n",
    "N_a = data['N']\n",
    "dp_a = data['dp_bins'][:,0]\n",
    "\n",
    "sum_a1 = np.nansum(N_a*dp_a, axis=1)\n",
    "sum_b1 = np.nansum(N_a, axis=1)\n",
    "dp_mean1 = sum_a1/sum_b1\n",
    "\n"
   ]
  },
  {
   "cell_type": "code",
   "execution_count": 3,
   "metadata": {},
   "outputs": [],
   "source": [
    "# 64 partile size bins \n",
    "x = data['dp_bins'][:,2].T\n",
    "bin_width = data['dp_bins'][:,3].T\n",
    "\n",
    "# remove top and bottom bin, random particle detection data \n",
    "\n",
    "# convert element in nupy array to masked\n",
    "x = np.ma.masked_array(x)\n",
    "bin_width = np.ma.masked_array(bin_width)\n",
    "x[0] = np.ma.masked\n",
    "x[len(x)-1] = np.ma.masked\n",
    "\n",
    "bin_width[0] = np.ma.masked\n",
    "bin_width[len(bin_width)-1] = np.ma.masked\n",
    "\n",
    "\n",
    "\n",
    "\n",
    "#x[len(x)] = []\n",
    "#bin_width[0], bin_width[len(bin_width)] = [],[]\n"
   ]
  },
  {
   "cell_type": "code",
   "execution_count": 22,
   "metadata": {},
   "outputs": [
    {
     "name": "stdout",
     "output_type": "stream",
     "text": [
      "shape of N (277920, 64)\n",
      "shape of U10 (277920, 1)\n",
      "shape of flag before broadcasting (277920, 1)\n",
      "shape of flag after broadcasting (277920, 64)\n"
     ]
    },
    {
     "data": {
      "image/png": "[encoded data removed]",
      "text/plain": [
       "<Figure size 720x432 with 1 Axes>"
      ]
     },
     "metadata": {},
     "output_type": "display_data"
    }
   ],
   "source": [
    "plt.style.use('seaborn')\n",
    "velocity_bin = np.ma.masked_array(np.array([8,9]))\n",
    "\n",
    "# mask every element in N where U10m is not between 0 and 5 m/s\n",
    "\n",
    "N = np.ma.masked_array(data['N'])\n",
    "\n",
    "U10m = data['U10m_ex']\n",
    "U10m = np.ma.masked_array(U10m)\n",
    "\n",
    "print('shape of N', N.shape)\n",
    "print('shape of U10', U10m.shape)\n",
    "\n",
    "flag1 = (U10m < velocity_bin[0])\n",
    "flag2 = (U10m > velocity_bin[1])\n",
    "\n",
    "#array of elemts where flag1 and flag2 are true\n",
    "flag = flag1 & flag2\n",
    "print('shape of flag before broadcasting', flag.shape)\n",
    "# broadcast and make flag the same shape as N\n",
    "flag = np.broadcast_to(flag, N.shape)\n",
    "print('shape of flag after broadcasting', flag.shape)\n",
    "\n",
    "\n",
    "#N_slice = N[:,0]\n",
    "N_slice = np.ma.masked_array(N, mask=flag)\n",
    "\n",
    "# mask every element in N where U10m is not between 0 and 5 m/s\n",
    "N_mean = np.nanmean(N_slice,axis = 0)\n",
    "\n",
    "#N_mean = np.ma.masked_array(N_mean)\n",
    "N_mean[0] = np.ma.masked\n",
    "N_mean[len(N_mean)-1] = np.ma.masked\n",
    "\n",
    "N_sum = np.nansum(N_mean)\n",
    "pdf = N_mean/(bin_width*N_sum)\n",
    "\n",
    "# mask elements pf pdf where pdf is Nan or zero\n",
    "pdf = np.ma.masked_array(pdf)\n",
    "pdf[pdf == 0] = np.ma.masked\n",
    "pdf[pdf == np.nan] = np.ma.masked\n",
    "\n",
    "# plot a same plot as above but a histogram \n",
    "plt.figure(figsize=(10,6))\n",
    "plt.hist(x, bins=64, weights=pdf,color='royalblue',edgecolor='black', linewidth=1.2)\n",
    "plt.xlabel('Dp (um)',fontsize=14)\n",
    "plt.ylabel('pdf',fontsize=14)\n",
    "plt.title('pdf vs Dp')\n",
    "#make xticks and yticks a larger font\n",
    "plt.xticks(fontsize=14)\n",
    "plt.yticks(fontsize=14)\n",
    "\n",
    "plt.show()\n",
    "\n",
    "\n"
   ]
  },
  {
   "cell_type": "code",
   "execution_count": 23,
   "metadata": {},
   "outputs": [
    {
     "data": {
      "text/plain": [
       "(277920, 64)"
      ]
     },
     "execution_count": 23,
     "metadata": {},
     "output_type": "execute_result"
    }
   ],
   "source": [
    "N_slice.shape"
   ]
  },
  {
   "cell_type": "code",
   "execution_count": 30,
   "metadata": {},
   "outputs": [
    {
     "data": {
      "text/plain": [
       "(64,)"
      ]
     },
     "execution_count": 30,
     "metadata": {},
     "output_type": "execute_result"
    }
   ],
   "source": [
    "N_mean.shape"
   ]
  },
  {
   "cell_type": "code",
   "execution_count": 9,
   "metadata": {},
   "outputs": [
    {
     "data": {
      "text/plain": [
       "(64,)"
      ]
     },
     "execution_count": 9,
     "metadata": {},
     "output_type": "execute_result"
    }
   ],
   "source": [
    "x.shape"
   ]
  },
  {
   "cell_type": "code",
   "execution_count": 31,
   "metadata": {},
   "outputs": [
    {
     "data": {
      "text/plain": [
       "(64,)"
      ]
     },
     "execution_count": 31,
     "metadata": {},
     "output_type": "execute_result"
    }
   ],
   "source": [
    "pdf.shape"
   ]
  },
  {
   "cell_type": "code",
   "execution_count": 13,
   "metadata": {},
   "outputs": [
    {
     "data": {
      "text/plain": [
       "(1,)"
      ]
     },
     "execution_count": 13,
     "metadata": {},
     "output_type": "execute_result"
    }
   ],
   "source": [
    "N_mean.shape"
   ]
  },
  {
   "cell_type": "code",
   "execution_count": 6,
   "metadata": {},
   "outputs": [
    {
     "data": {
      "text/plain": [
       "(277920, 64)"
      ]
     },
     "execution_count": 6,
     "metadata": {},
     "output_type": "execute_result"
    }
   ],
   "source": [
    "flag.shape"
   ]
  },
  {
   "cell_type": "code",
   "execution_count": 14,
   "metadata": {},
   "outputs": [],
   "source": [
    "test = flag[:,0] == flag[:,53]"
   ]
  },
  {
   "cell_type": "code",
   "execution_count": 15,
   "metadata": {},
   "outputs": [
    {
     "data": {
      "text/plain": [
       "array([], dtype=bool)"
      ]
     },
     "execution_count": 15,
     "metadata": {},
     "output_type": "execute_result"
    }
   ],
   "source": [
    "test[test==False]"
   ]
  },
  {
   "cell_type": "code",
   "execution_count": 18,
   "metadata": {},
   "outputs": [],
   "source": [
    "test2 = N == N_slice"
   ]
  },
  {
   "cell_type": "code",
   "execution_count": 21,
   "metadata": {},
   "outputs": [
    {
     "data": {
      "text/plain": [
       "masked_array(data=[False, False, False, ..., False, False, False],\n",
       "             mask=False,\n",
       "       fill_value=True)"
      ]
     },
     "execution_count": 21,
     "metadata": {},
     "output_type": "execute_result"
    }
   ],
   "source": [
    "test2[test2==False]"
   ]
  },
  {
   "cell_type": "code",
   "execution_count": null,
   "metadata": {},
   "outputs": [],
   "source": []
  }
 ],
 "metadata": {
  "kernelspec": {
   "display_name": "Python 3",
   "language": "python",
   "name": "python3"
  },
  "language_info": {
   "codemirror_mode": {
    "name": "ipython",
    "version": 3
   },
   "file_extension": ".py",
   "mimetype": "text/x-python",
   "name": "python",
   "nbconvert_exporter": "python",
   "pygments_lexer": "ipython3",
   "version": "3.7.13"
  },
  "orig_nbformat": 4,
  "vscode": {
   "interpreter": {
    "hash": "1814aae0b4acfa63c8a4519a08bcce723df50e43c46981dca896cf61bc7a7848"
   }
  }
 },
 "nbformat": 4,
 "nbformat_minor": 2
}
