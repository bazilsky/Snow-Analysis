{
 "cells": [
  {
   "cell_type": "code",
   "execution_count": 1,
   "metadata": {},
   "outputs": [],
   "source": [
    "import pandas as pd\n",
    "import numpy as np\n",
    "import matplotlib.pyplot as plt\n",
    "import scipy.io as sio\n",
    "\n"
   ]
  },
  {
   "cell_type": "code",
   "execution_count": 2,
   "metadata": {},
   "outputs": [
    {
     "data": {
      "text/plain": [
       "\"\\n\\nclear; close('all');\\n\\ndays = [datenum('27-Aug-2020 0:00:00'):datenum('15-Sep-2020 0:00:00')]';\\n\\npth_in = '/Users/ananth/Desktop/clasp_data/'\\npth_SPC = '/Users/ananth/Desktop/bas_scripts/DATA_SETS/mosaic/newdata_with_metcity/'\\n\\n\\n% Load CLASP data\\nfname = sprintf('%sclasp_all_1min.mat',pth_in);\\nif(exist(fname,'file') == 0)\\n    sprintf('ERROR: unable to find %s',fname)\\n    return\\nelse\\n    CLASP = load(fname); \\nend\\n\\n\\nU1104_file = sprintf('%sU1104_8cm_1min.mat',pth_SPC);\\nU1206_file = sprintf('%sU1206_10m_1min.mat',pth_SPC);\\n\\nU1104 = load(U1104_file);\\nU1206 = load(U1206_file);\\n\\n\""
      ]
     },
     "execution_count": 2,
     "metadata": {},
     "output_type": "execute_result"
    }
   ],
   "source": [
    "\"\"\"\n",
    "\n",
    "clear; close('all');\n",
    "\n",
    "days = [datenum('27-Aug-2020 0:00:00'):datenum('15-Sep-2020 0:00:00')]';\n",
    "\n",
    "pth_in = '/Users/ananth/Desktop/clasp_data/'\n",
    "pth_SPC = '/Users/ananth/Desktop/bas_scripts/DATA_SETS/mosaic/newdata_with_metcity/'\n",
    "\n",
    "\n",
    "% Load CLASP data\n",
    "fname = sprintf('%sclasp_all_1min.mat',pth_in);\n",
    "if(exist(fname,'file') == 0)\n",
    "    sprintf('ERROR: unable to find %s',fname)\n",
    "    return\n",
    "else\n",
    "    CLASP = load(fname); \n",
    "end\n",
    "\n",
    "\n",
    "U1104_file = sprintf('%sU1104_8cm_1min.mat',pth_SPC);\n",
    "U1206_file = sprintf('%sU1206_10m_1min.mat',pth_SPC);\n",
    "\n",
    "U1104 = load(U1104_file);\n",
    "U1206 = load(U1206_file);\n",
    "\n",
    "\"\"\""
   ]
  },
  {
   "cell_type": "code",
   "execution_count": 23,
   "metadata": {},
   "outputs": [
    {
     "name": "stdout",
     "output_type": "stream",
     "text": [
      "counts\n",
      "status\n",
      "flags\n",
      "filename\n",
      "filename2\n",
      "t\n",
      "t_vec\n",
      "dt\n",
      "dt_nominal\n",
      "conc\n",
      "meanR\n",
      "dR\n",
      "calibr\n"
     ]
    }
   ],
   "source": [
    "# specify date range\n",
    "start_date = '2020-08-27'\n",
    "end_date = '2020-09-15'\n",
    "\n",
    "# convert start and end date to datenum and specify and array of days\n",
    "days = pd.date_range(start_date, end_date, freq='D')\n",
    "\n",
    "# convert these date time objects to datenum\n",
    "days = days.to_pydatetime()\n",
    "\n",
    "pth_in = '/Users/ananth/Desktop/clasp_data/'\n",
    "pth_SPC = '/Users/ananth/Desktop/bas_scripts/DATA_SETS/mosaic/newdata_with_metcity/'\n",
    "\n",
    "# Load CLASP .mat file\n",
    "fname = pth_in + 'clasp_all_1min.mat'\n",
    "CLASP_2 = sio.loadmat(fname)\n",
    "\n",
    "CLASP = CLASP_2['CLASP']\n",
    "\n",
    "\n",
    "\n",
    "print('\\n'.join([i for i in CLASP.dtype.names]))\n",
    "\n",
    "clasp_conc = CLASP['conc']\n",
    "\n",
    "#convert t_1 to datetime\n",
    "#t_2 = [dt.datetime.fromordinal(int(t)) + dt.timedelta(days=t%1) - dt.timedelta(days = 366) for t in t_1]\n",
    "\n"
   ]
  },
  {
   "cell_type": "code",
   "execution_count": 27,
   "metadata": {},
   "outputs": [
    {
     "data": {
      "text/plain": [
       "array([[array([[3.33617169e-02, 2.74552198e-02, 2.62719145e-02, ...,\n",
       "                6.00000000e+02, 6.00000000e+02, 6.00000000e+02],\n",
       "               [3.93815765e-02, 3.15910872e-02, 2.63606175e-02, ...,\n",
       "                6.00000000e+02, 6.00000000e+02, 6.00000000e+02],\n",
       "               [3.08399696e-02, 1.85889217e-02, 2.15430739e-02, ...,\n",
       "                6.00000000e+02, 6.00000000e+02, 6.00000000e+02],\n",
       "               ...,\n",
       "               [0.00000000e+00, 0.00000000e+00, 2.97389924e-02, ...,\n",
       "                6.00000000e+02, 6.00000000e+02, 6.00000000e+02],\n",
       "               [0.00000000e+00, 0.00000000e+00, 3.11756821e-02, ...,\n",
       "                6.00000000e+02, 6.00000000e+02, 6.00000000e+02],\n",
       "               [0.00000000e+00, 0.00000000e+00, 3.63587573e-02, ...,\n",
       "                6.00000000e+02, 6.00000000e+02, 6.00000000e+02]])   ]],\n",
       "      dtype=object)"
      ]
     },
     "execution_count": 27,
     "metadata": {},
     "output_type": "execute_result"
    }
   ],
   "source": [
    "len(CLASP.dtype.names)\n",
    "\n",
    "CLASP['conc']"
   ]
  },
  {
   "cell_type": "code",
   "execution_count": 55,
   "metadata": {},
   "outputs": [
    {
     "name": "stdout",
     "output_type": "stream",
     "text": [
      "Name: [array(['John'], dtype='<U4')]\n",
      "Age: [array([[30]], dtype=uint8)]\n",
      "City: [array(['New York'], dtype='<U8')]\n"
     ]
    }
   ],
   "source": [
    "\"\"\"\n",
    "import scipy.io as sio\n",
    "\n",
    "# Load the .mat file\n",
    "data = sio.loadmat('myStructFile.mat')\n",
    "\n",
    "# Access the structure\n",
    "myStruct = data['myStruct']\n",
    "\n",
    "# Access the fields in the structure\n",
    "name = myStruct['name'][0]\n",
    "age = myStruct['age'][0]\n",
    "city = myStruct['city'][0]\n",
    "\n",
    "# Print the values of the fields\n",
    "print('Name:', name)\n",
    "print('Age:', age)\n",
    "print('City:', city)\n",
    "\n",
    "\"\"\"\n"
   ]
  },
  {
   "cell_type": "code",
   "execution_count": 49,
   "metadata": {},
   "outputs": [
    {
     "ename": "AttributeError",
     "evalue": "'numpy.ndarray' object has no attribute 'keys'",
     "output_type": "error",
     "traceback": [
      "\u001b[0;31m---------------------------------------------------------------------------\u001b[0m",
      "\u001b[0;31mAttributeError\u001b[0m                            Traceback (most recent call last)",
      "\u001b[0;32m/var/folders/m6/qj3v2qcs35d7x8gdhqzsc7280000gn/T/ipykernel_44568/1365127750.py\u001b[0m in \u001b[0;36m<module>\u001b[0;34m\u001b[0m\n\u001b[1;32m      1\u001b[0m \u001b[0;31m# output variables in myStruct\u001b[0m\u001b[0;34m\u001b[0m\u001b[0;34m\u001b[0m\u001b[0;34m\u001b[0m\u001b[0m\n\u001b[0;32m----> 2\u001b[0;31m \u001b[0mmyStruct\u001b[0m\u001b[0;34m.\u001b[0m\u001b[0mkeys\u001b[0m\u001b[0;34m(\u001b[0m\u001b[0;34m)\u001b[0m\u001b[0;34m\u001b[0m\u001b[0;34m\u001b[0m\u001b[0m\n\u001b[0m",
      "\u001b[0;31mAttributeError\u001b[0m: 'numpy.ndarray' object has no attribute 'keys'"
     ]
    }
   ],
   "source": [
    "# output variables in myStruct\n",
    "myStruct.keys()"
   ]
  },
  {
   "cell_type": "code",
   "execution_count": 50,
   "metadata": {},
   "outputs": [
    {
     "name": "stdout",
     "output_type": "stream",
     "text": [
      "[[(array(['John'], dtype='<U4'), array([[30]], dtype=uint8), array(['New York'], dtype='<U8'))]]\n"
     ]
    }
   ],
   "source": [
    "import scipy.io as sio\n",
    "\n",
    "# Load the .mat file\n",
    "data = sio.loadmat('myStructFile.mat')\n",
    "\n",
    "# Access the structure\n",
    "myStruct = data['myStruct']\n",
    "\n",
    "# Print the dictionary contents\n",
    "print(myStruct)\n"
   ]
  },
  {
   "cell_type": "code",
   "execution_count": 51,
   "metadata": {},
   "outputs": [
    {
     "ename": "AttributeError",
     "evalue": "'numpy.ndarray' object has no attribute 'keys'",
     "output_type": "error",
     "traceback": [
      "\u001b[0;31m---------------------------------------------------------------------------\u001b[0m",
      "\u001b[0;31mAttributeError\u001b[0m                            Traceback (most recent call last)",
      "\u001b[0;32m/var/folders/m6/qj3v2qcs35d7x8gdhqzsc7280000gn/T/ipykernel_44568/4206059670.py\u001b[0m in \u001b[0;36m<module>\u001b[0;34m\u001b[0m\n\u001b[1;32m      8\u001b[0m \u001b[0;34m\u001b[0m\u001b[0m\n\u001b[1;32m      9\u001b[0m \u001b[0;31m# Print the attributes of myStruct\u001b[0m\u001b[0;34m\u001b[0m\u001b[0;34m\u001b[0m\u001b[0;34m\u001b[0m\u001b[0m\n\u001b[0;32m---> 10\u001b[0;31m \u001b[0mprint\u001b[0m\u001b[0;34m(\u001b[0m\u001b[0mmyStruct\u001b[0m\u001b[0;34m.\u001b[0m\u001b[0mkeys\u001b[0m\u001b[0;34m(\u001b[0m\u001b[0;34m)\u001b[0m\u001b[0;34m)\u001b[0m\u001b[0;34m\u001b[0m\u001b[0;34m\u001b[0m\u001b[0m\n\u001b[0m",
      "\u001b[0;31mAttributeError\u001b[0m: 'numpy.ndarray' object has no attribute 'keys'"
     ]
    }
   ],
   "source": [
    "import scipy.io as sio\n",
    "\n",
    "# Load the .mat file\n",
    "data = sio.loadmat('myStructFile.mat')\n",
    "\n",
    "# Access the structure\n",
    "myStruct = data['myStruct']\n",
    "\n",
    "# Print the attributes of myStruct\n",
    "print(myStruct.keys())\n"
   ]
  },
  {
   "cell_type": "code",
   "execution_count": 52,
   "metadata": {},
   "outputs": [
    {
     "data": {
      "text/plain": [
       "dtype([('name', 'O'), ('age', 'O'), ('city', 'O')])"
      ]
     },
     "execution_count": 52,
     "metadata": {},
     "output_type": "execute_result"
    }
   ],
   "source": [
    "myStruct.dtype"
   ]
  },
  {
   "cell_type": "code",
   "execution_count": null,
   "metadata": {},
   "outputs": [],
   "source": []
  }
 ],
 "metadata": {
  "kernelspec": {
   "display_name": "Python 3",
   "language": "python",
   "name": "python3"
  },
  "language_info": {
   "codemirror_mode": {
    "name": "ipython",
    "version": 3
   },
   "file_extension": ".py",
   "mimetype": "text/x-python",
   "name": "python",
   "nbconvert_exporter": "python",
   "pygments_lexer": "ipython3",
   "version": "3.7.13"
  },
  "orig_nbformat": 4
 },
 "nbformat": 4,
 "nbformat_minor": 2
}
